{
 "cells": [
  {
   "cell_type": "code",
   "execution_count": null,
   "id": "8de8c284",
   "metadata": {},
   "outputs": [],
   "source": [
    "import numpy as np\n",
    "import pandas as pd\n",
    "import matplotlib.pyplot as plt"
   ]
  },
  {
   "cell_type": "code",
   "execution_count": null,
   "id": "ab78e69b",
   "metadata": {},
   "outputs": [],
   "source": [
    "df = pd.read_csv('ushape.csv')"
   ]
  },
  {
   "cell_type": "code",
   "execution_count": null,
   "id": "6c018425",
   "metadata": {},
   "outputs": [],
   "source": [
    "df.head()"
   ]
  },
  {
   "cell_type": "code",
   "execution_count": null,
   "id": "bdf02db5",
   "metadata": {},
   "outputs": [],
   "source": [
    "X = df.iloc[:,0:2].values\n",
    "y = df.iloc[:,-1].values"
   ]
  },
  {
   "cell_type": "code",
   "execution_count": null,
   "id": "ac98f555",
   "metadata": {},
   "outputs": [],
   "source": [
    "plt.scatter(X[:,0],X[:,1],c=y)"
   ]
  },
  {
   "cell_type": "code",
   "execution_count": null,
   "id": "5bd46c44",
   "metadata": {},
   "outputs": [],
   "source": [
    "from sklearn.linear_model import LogisticRegression\n",
    "clf = LogisticRegression()"
   ]
  },
  {
   "cell_type": "code",
   "execution_count": null,
   "id": "5f7a6960",
   "metadata": {},
   "outputs": [],
   "source": [
    "clf.fit(X,y)"
   ]
  },
  {
   "cell_type": "code",
   "execution_count": null,
   "id": "289d90ad",
   "metadata": {},
   "outputs": [],
   "source": [
    "from mlxtend.plotting import plot_decision_regions\n",
    "\n",
    "plot_decision_regions(X, y.astype('int'), clf, legend=2)"
   ]
  },
  {
   "cell_type": "code",
   "execution_count": null,
   "id": "b58da870",
   "metadata": {},
   "outputs": [],
   "source": [
    "from sklearn.model_selection import cross_val_score\n",
    "np.mean(cross_val_score(clf,X,y,scoring='accuracy',cv=10))"
   ]
  },
  {
   "cell_type": "code",
   "execution_count": null,
   "id": "c7a26fb9",
   "metadata": {},
   "outputs": [],
   "source": [
    "from sklearn.preprocessing import PolynomialFeatures\n",
    "poly = PolynomialFeatures(degree=3,include_bias=False)\n",
    "X_trf = poly.fit_transform(X)"
   ]
  },
  {
   "cell_type": "code",
   "execution_count": null,
   "id": "17287c87",
   "metadata": {},
   "outputs": [],
   "source": [
    "clf1 = LogisticRegression()\n",
    "np.mean(cross_val_score(clf1,X_trf,y,scoring='accuracy',cv=10))"
   ]
  },
  {
   "cell_type": "code",
   "execution_count": null,
   "id": "9b6f32fb",
   "metadata": {},
   "outputs": [],
   "source": [
    "def plot_decision_boundary(X,y,degree=1):\n",
    "    \n",
    "    poly = PolynomialFeatures(degree=degree)\n",
    "    X_trf = poly.fit_transform(X)\n",
    "    \n",
    "    clf = LogisticRegression()\n",
    "    clf.fit(X_trf,y)\n",
    "    \n",
    "    accuracy = np.mean(cross_val_score(clf,X_trf,y,scoring='accuracy',cv=10))\n",
    "    \n",
    "    a=np.arange(start=X[:,0].min()-1, stop=X[:,0].max()+1, step=0.01)\n",
    "    b=np.arange(start=X[:,1].min()-1, stop=X[:,1].max()+1, step=0.01)\n",
    "\n",
    "\n",
    "    XX,YY=np.meshgrid(a,b)\n",
    "    \n",
    "    input_array=np.array([XX.ravel(),YY.ravel()]).T\n",
    "\n",
    "    labels=clf.predict(poly.transform(input_array))\n",
    "    \n",
    "    plt.contourf(XX,YY,labels.reshape(XX.shape),alpha=0.5)\n",
    "    plt.scatter(X[:,0],X[:,1], c=y)\n",
    "    plt.title('Degree = {}, accuracy is {}'.format(degree,np.round(accuracy,4)))"
   ]
  },
  {
   "cell_type": "code",
   "execution_count": null,
   "id": "6ab592e1",
   "metadata": {},
   "outputs": [],
   "source": [
    "plot_decision_boundary(X,y)"
   ]
  },
  {
   "cell_type": "code",
   "execution_count": null,
   "id": "d13ddfdb",
   "metadata": {},
   "outputs": [],
   "source": [
    "plot_decision_boundary(X,y,degree=2)"
   ]
  },
  {
   "cell_type": "code",
   "execution_count": null,
   "id": "af3987d4",
   "metadata": {},
   "outputs": [],
   "source": [
    "plot_decision_boundary(X,y,degree=3)"
   ]
  },
  {
   "cell_type": "code",
   "execution_count": null,
   "id": "b7cf360f",
   "metadata": {},
   "outputs": [],
   "source": [
    "plot_decision_boundary(X,y,degree=4)"
   ]
  },
  {
   "cell_type": "code",
   "execution_count": null,
   "id": "bc8d0347",
   "metadata": {},
   "outputs": [],
   "source": [
    "plot_decision_boundary(X,y,degree=5)"
   ]
  },
  {
   "cell_type": "code",
   "execution_count": null,
   "id": "98ba4ed9",
   "metadata": {},
   "outputs": [],
   "source": [
    "plot_decision_boundary(X,y,degree=6)"
   ]
  },
  {
   "cell_type": "code",
   "execution_count": null,
   "id": "f67d76df",
   "metadata": {},
   "outputs": [],
   "source": [
    "plot_decision_boundary(X,y,degree=7)"
   ]
  },
  {
   "cell_type": "code",
   "execution_count": null,
   "id": "b5f58ecd",
   "metadata": {},
   "outputs": [],
   "source": [
    "plot_decision_boundary(X,y,degree=25)"
   ]
  },
  {
   "cell_type": "code",
   "execution_count": null,
   "id": "e7201a53",
   "metadata": {},
   "outputs": [],
   "source": []
  }
 ],
 "metadata": {
  "kernelspec": {
   "display_name": "Python 3",
   "language": "python",
   "name": "python3"
  },
  "language_info": {
   "codemirror_mode": {
    "name": "ipython",
    "version": 3
   },
   "file_extension": ".py",
   "mimetype": "text/x-python",
   "name": "python",
   "nbconvert_exporter": "python",
   "pygments_lexer": "ipython3",
   "version": "3.8.8"
  }
 },
 "nbformat": 4,
 "nbformat_minor": 5
}
